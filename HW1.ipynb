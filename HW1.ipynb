{
 "cells": [
  {
   "cell_type": "code",
   "execution_count": 1,
   "id": "3e720fce-b3f9-465f-9880-82080013bf13",
   "metadata": {},
   "outputs": [
    {
     "name": "stdin",
     "output_type": "stream",
     "text": [
      " 2\n"
     ]
    },
    {
     "name": "stdout",
     "output_type": "stream",
     "text": [
      "4.0\n"
     ]
    }
   ],
   "source": [
    "n = float(input())\n",
    "N = 2 * n\n",
    "print(N)"
   ]
  },
  {
   "cell_type": "code",
   "execution_count": 8,
   "id": "4aaccee2-ded1-477e-a86f-de1d32589906",
   "metadata": {},
   "outputs": [
    {
     "name": "stdin",
     "output_type": "stream",
     "text": [
      " 1 3\n"
     ]
    },
    {
     "name": "stdout",
     "output_type": "stream",
     "text": [
      "2.21\n"
     ]
    }
   ],
   "source": [
    "a, b = map(int, input().split())\n",
    "S = a * b - 3.14* a**2/4\n",
    "print(f'{S:.2f}')"
   ]
  },
  {
   "cell_type": "code",
   "execution_count": 18,
   "id": "de3da6b1-e529-4d18-b88d-052f78bdd28d",
   "metadata": {},
   "outputs": [
    {
     "name": "stdin",
     "output_type": "stream",
     "text": [
      " E\n"
     ]
    },
    {
     "name": "stdout",
     "output_type": "stream",
     "text": [
      "e\n"
     ]
    }
   ],
   "source": [
    "c = input()\n",
    "if c.isupper():\n",
    "    print(c.lower())\n",
    "elif c.islower():\n",
    "    print(c.upper())"
   ]
  },
  {
   "cell_type": "code",
   "execution_count": 25,
   "id": "f37e9a0a-d881-45c1-8bb2-55e0d7599f21",
   "metadata": {},
   "outputs": [
    {
     "name": "stdin",
     "output_type": "stream",
     "text": [
      " 0\n"
     ]
    },
    {
     "name": "stdout",
     "output_type": "stream",
     "text": [
      "{c} khong phai la ki tu alphabet\n"
     ]
    }
   ],
   "source": [
    "c = input()\n",
    "if c.isalpha():\n",
    "    print(\"{c} la ki tu alphabet\")\n",
    "else:\n",
    "    print(\"{c} khong phai la ki tu alphabet\")"
   ]
  },
  {
   "cell_type": "code",
   "execution_count": 42,
   "id": "2512ea71-9a28-4f71-a3b5-5c3194ee4bbf",
   "metadata": {},
   "outputs": [
    {
     "name": "stdin",
     "output_type": "stream",
     "text": [
      " 9\n"
     ]
    },
    {
     "name": "stdout",
     "output_type": "stream",
     "text": [
      "'8'\n"
     ]
    }
   ],
   "source": [
    "c = input()\n",
    "if c == 'A':\n",
    "    print(\"dac biet\")\n",
    "else:\n",
    "    prev_char = chr(ord(c.lower()) - 1)\n",
    "    print(f\"'{prev_char}'\")"
   ]
  },
  {
   "cell_type": "code",
   "execution_count": 61,
   "id": "83015865-836e-4592-923d-8563fe2f3b02",
   "metadata": {},
   "outputs": [
    {
     "name": "stdin",
     "output_type": "stream",
     "text": [
      " 6 8 10\n"
     ]
    },
    {
     "name": "stdout",
     "output_type": "stream",
     "text": [
      "24.0\n"
     ]
    }
   ],
   "source": [
    "import math\n",
    "a,b,c = map(int, input().split())\n",
    "if a+b > c and b+c > a and c+a > b:\n",
    "    p = (a+b+c)/2\n",
    "    S = math.sqrt(p*(p-a)*(p-b)*(p-c))\n",
    "    print(f'{S:.1f}')\n",
    "else:\n",
    "    print(\"Khong phai 3 canh cua tam giac\")"
   ]
  },
  {
   "cell_type": "code",
   "execution_count": 16,
   "id": "da4c1748-29eb-47b1-9081-dcb0f6b40357",
   "metadata": {},
   "outputs": [
    {
     "name": "stdin",
     "output_type": "stream",
     "text": [
      " 1234567891011121314151617181920\n"
     ]
    },
    {
     "name": "stdout",
     "output_type": "stream",
     "text": [
      "5 9\n"
     ]
    }
   ],
   "source": [
    "chuoi = input()\n",
    "if len(chuoi) >= 20:\n",
    "    print(chuoi[4], chuoi[8])\n",
    "else: \n",
    "    print(\"Khong du du lieu xu li\")"
   ]
  },
  {
   "cell_type": "code",
   "execution_count": 4,
   "id": "18104ff4-3f26-4a30-b950-1fb297b06525",
   "metadata": {},
   "outputs": [
    {
     "name": "stdin",
     "output_type": "stream",
     "text": [
      "Ten chu ho:  Alex\n",
      "Chi so thang truoc:  2097\n",
      "Chi so thang nay:  2278\n"
     ]
    },
    {
     "name": "stdout",
     "output_type": "stream",
     "text": [
      "Ho va ten: Alex\n",
      "Tien phai tra la: 426038\n"
     ]
    }
   ],
   "source": [
    "ten_chu_ho = input(\"Ten chu ho: \")\n",
    "chi_so_truoc = int(input(\"Chi so thang truoc: \"))\n",
    "chi_so_sau = int(input(\"Chi so thang nay: \"))\n",
    "so_dien = chi_so_sau - chi_so_truoc\n",
    "tien_dien = 0\n",
    "if so_dien <= 50:\n",
    "    tien_dien = so_dien * 1984\n",
    "elif so_dien <= 100:\n",
    "    tien_dien = 50 * 1984 + (so_dien - 50) * 2050\n",
    "elif so_dien <= 200:\n",
    "    tien_dien = 50 * 1984 + 50 * 2050 + (so_dien - 100) * 2380\n",
    "elif so_dien <= 300:\n",
    "    tien_dien = 50 * 1984 + 50 * 2050 + 100 * 2380 + (so_dien - 200) * 2998\n",
    "elif so_dien <= 400:\n",
    "    tien_dien = 50 * 1984 + 50 * 2050 + 100 * 2380 + 100 * 2998 + (so_dien - 300) * 3350\n",
    "else:\n",
    "    tien_dien = 50 * 1984 + 50 * 2050 + 100 * 2380 + 100 * 2998 + 100 * 3350 + (so_dien - 400) * 3460\n",
    "vat = tien_dien * 0.08\n",
    "tong_tien = int(tien_dien + vat)\n",
    "print(\"Ho va ten:\", ten_chu_ho)\n",
    "print(\"Tien phai tra la:\", tong_tien)"
   ]
  },
  {
   "cell_type": "code",
   "execution_count": 18,
   "id": "1665c0c3-8cda-40e6-9a28-26ba9d68c193",
   "metadata": {},
   "outputs": [
    {
     "name": "stdin",
     "output_type": "stream",
     "text": [
      " 83\n"
     ]
    },
    {
     "name": "stdout",
     "output_type": "stream",
     "text": [
      "odd\n"
     ]
    }
   ],
   "source": [
    "x = float(input())\n",
    "if x % 2 == 0:\n",
    "    print(f\"even\")\n",
    "else:\n",
    "    print(f\"odd\")"
   ]
  },
  {
   "cell_type": "code",
   "execution_count": 30,
   "id": "98b0f35b-0fe6-479e-bc8c-46043a9a59aa",
   "metadata": {},
   "outputs": [
    {
     "name": "stdin",
     "output_type": "stream",
     "text": [
      " 43890\n"
     ]
    },
    {
     "name": "stdout",
     "output_type": "stream",
     "text": [
      "False\n"
     ]
    }
   ],
   "source": [
    "x = int(input())\n",
    "if x % 10 == 5:\n",
    "    print(f\"True\")\n",
    "else:\n",
    "    print(f\"False\")"
   ]
  },
  {
   "cell_type": "code",
   "execution_count": 34,
   "id": "8b15769c-3bcf-437d-821a-b6da786e1709",
   "metadata": {},
   "outputs": [
    {
     "name": "stdin",
     "output_type": "stream",
     "text": [
      " 30\n"
     ]
    },
    {
     "name": "stdout",
     "output_type": "stream",
     "text": [
      "True\n"
     ]
    }
   ],
   "source": [
    "x = int(input())\n",
    "if x % 15 == 0:\n",
    "    print(\"True\")\n",
    "else:\n",
    "    print(\"False\")"
   ]
  },
  {
   "cell_type": "code",
   "execution_count": 42,
   "id": "f6081250-b868-4b0b-b9e8-85c410276820",
   "metadata": {},
   "outputs": [
    {
     "name": "stdin",
     "output_type": "stream",
     "text": [
      " 2006\n"
     ]
    },
    {
     "name": "stdout",
     "output_type": "stream",
     "text": [
      "Du tuoi bau cu\n"
     ]
    }
   ],
   "source": [
    "nam_sinh = int(input())\n",
    "tuoi = 2025 - nam_sinh\n",
    "if tuoi >= 18:\n",
    "    print(\"Du tuoi bau cu\")\n",
    "else:\n",
    "    print(\"Chua du tuoi bau cu\")"
   ]
  },
  {
   "cell_type": "code",
   "execution_count": 49,
   "id": "a62aa41f-416a-4fa5-9ebf-b1b8d0125018",
   "metadata": {},
   "outputs": [
    {
     "name": "stdin",
     "output_type": "stream",
     "text": [
      " 18 18\n"
     ]
    },
    {
     "name": "stdout",
     "output_type": "stream",
     "text": [
      "Bang nhau\n"
     ]
    }
   ],
   "source": [
    "a, b = map(int, input().split())\n",
    "if a > b:\n",
    "    print(f\"{a}\")\n",
    "elif a == b:\n",
    "    print(\"Bang nhau\")\n",
    "else:\n",
    "    print(f\"{b}\")"
   ]
  },
  {
   "cell_type": "code",
   "execution_count": 59,
   "id": "45498af7-fd26-44b6-b348-97823fdf30a3",
   "metadata": {},
   "outputs": [
    {
     "name": "stdin",
     "output_type": "stream",
     "text": [
      " 45y\n"
     ]
    },
    {
     "name": "stdout",
     "output_type": "stream",
     "text": [
      "neither\n"
     ]
    }
   ],
   "source": [
    "ky_tu = input()\n",
    "if ky_tu.isalpha():\n",
    "    print(\"letter\")\n",
    "elif ky_tu.isdigit():\n",
    "    print(\"number\")\n",
    "else:\n",
    "    print(\"neither\")"
   ]
  },
  {
   "cell_type": "code",
   "execution_count": 74,
   "id": "cfd5d19b-393c-44c8-831d-8bb1b11773a9",
   "metadata": {},
   "outputs": [
    {
     "name": "stdin",
     "output_type": "stream",
     "text": [
      " 7\n"
     ]
    },
    {
     "name": "stdout",
     "output_type": "stream",
     "text": [
      "Khá\n"
     ]
    }
   ],
   "source": [
    "score = float(input())\n",
    "if score < 5:\n",
    "    print(\"Yếu\")\n",
    "elif score < 6.5:\n",
    "    print(\"Trung bình\")\n",
    "elif score <8:\n",
    "    print(\"Khá\")\n",
    "else:\n",
    "    print(\"Giỏi\")"
   ]
  },
  {
   "cell_type": "code",
   "execution_count": 76,
   "id": "3a8f9816-0575-40f3-ba7b-c8ba86cd0779",
   "metadata": {},
   "outputs": [
    {
     "name": "stdin",
     "output_type": "stream",
     "text": [
      " 2000\n"
     ]
    },
    {
     "name": "stdout",
     "output_type": "stream",
     "text": [
      "Năm nhuận\n"
     ]
    }
   ],
   "source": [
    "nam = float(input())\n",
    "if nam % 4 == 0:\n",
    "    print(\"Năm nhuận\")\n",
    "else:\n",
    "    print(\"Không phải năm nhuận\")"
   ]
  },
  {
   "cell_type": "code",
   "execution_count": 6,
   "id": "5c7b0f79-0f79-402c-a985-32be8ac5b890",
   "metadata": {},
   "outputs": [
    {
     "name": "stdin",
     "output_type": "stream",
     "text": [
      " 2\n"
     ]
    },
    {
     "name": "stdout",
     "output_type": "stream",
     "text": [
      "Hai\n"
     ]
    }
   ],
   "source": [
    "n = float(input())\n",
    "match n:\n",
    "    case 0:\n",
    "        print(\"Không\")\n",
    "    case 1:\n",
    "        print(\"Một\")\n",
    "    case 2:\n",
    "        print(\"Hai\")\n",
    "    case 3:\n",
    "        print(\"Ba\")\n",
    "    case 4:\n",
    "        print(\"Bốn\")\n",
    "    case 5:\n",
    "        print(\"Năm\")\n",
    "    case 6:\n",
    "        print(\"Sáu\")\n",
    "    case 7:\n",
    "        print(\"Bảy\")\n",
    "    case 8:\n",
    "        print(\"Tám\")\n",
    "    case 9:\n",
    "        print(\"Chín\")"
   ]
  },
  {
   "cell_type": "code",
   "execution_count": 81,
   "id": "1e538548-ab0e-475b-94ff-51ca7b20eb73",
   "metadata": {},
   "outputs": [
    {
     "name": "stdin",
     "output_type": "stream",
     "text": [
      " 3\n"
     ]
    },
    {
     "name": "stdout",
     "output_type": "stream",
     "text": [
      "Học lại\n"
     ]
    }
   ],
   "source": [
    "diem = float(input())\n",
    "if diem >= 4: \n",
    "    print(\"Qua môn\")\n",
    "else:\n",
    "    print(\"Học lại\")"
   ]
  },
  {
   "cell_type": "code",
   "execution_count": 87,
   "id": "04595026-aa72-4400-8e66-e8483a9f691d",
   "metadata": {},
   "outputs": [
    {
     "name": "stdin",
     "output_type": "stream",
     "text": [
      " 2021\n"
     ]
    },
    {
     "name": "stdout",
     "output_type": "stream",
     "text": [
      "4\n",
      "Chưa đủ tuổi\n"
     ]
    }
   ],
   "source": [
    "nam_sinh = int(input())\n",
    "tuoi = 2025 - nam_sinh\n",
    "print(tuoi)\n",
    "if tuoi >= 18:\n",
    "    print(\"Đã đủ tuổi\")\n",
    "else:\n",
    "    print(\"Chưa đủ tuổi\")"
   ]
  }
 ],
 "metadata": {
  "kernelspec": {
   "display_name": "Python [conda env:base] *",
   "language": "python",
   "name": "conda-base-py"
  },
  "language_info": {
   "codemirror_mode": {
    "name": "ipython",
    "version": 3
   },
   "file_extension": ".py",
   "mimetype": "text/x-python",
   "name": "python",
   "nbconvert_exporter": "python",
   "pygments_lexer": "ipython3",
   "version": "3.13.5"
  }
 },
 "nbformat": 4,
 "nbformat_minor": 5
}
