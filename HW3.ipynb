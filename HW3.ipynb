{
 "cells": [
  {
   "cell_type": "code",
   "execution_count": 1,
   "id": "8fab392d-8d35-46b4-b237-8f60c28a4215",
   "metadata": {},
   "outputs": [
    {
     "name": "stdout",
     "output_type": "stream",
     "text": [
      "1 3 5 7 9 11 13 15 17 19 21 23 25 27 29 31 33 35 37 39 41 43 45 47 49 51 53 55 57 59 61 63 65 67 69 71 73 75 77 79 81 83 85 87 89 91 93 95 97 99 "
     ]
    }
   ],
   "source": [
    "for i in range (1,100,2):\n",
    "    print(i, end=' ')"
   ]
  },
  {
   "cell_type": "code",
   "execution_count": 2,
   "id": "f02f464e-b8fe-4d4a-9e7c-b79552d44aaa",
   "metadata": {},
   "outputs": [
    {
     "name": "stdout",
     "output_type": "stream",
     "text": [
      "6 12 18 24 30 36 42 48 54 60 66 72 78 84 90 96 "
     ]
    }
   ],
   "source": [
    "for i in range (6,100,6):\n",
    "    print(i, end=' ')"
   ]
  },
  {
   "cell_type": "code",
   "execution_count": 3,
   "id": "2f1bcb1f-7de7-47ac-89f8-0ca037324d26",
   "metadata": {},
   "outputs": [
    {
     "name": "stdin",
     "output_type": "stream",
     "text": [
      " 3\n"
     ]
    },
    {
     "name": "stdout",
     "output_type": "stream",
     "text": [
      "3*1=3\n",
      "3*2=6\n",
      "3*3=9\n",
      "3*4=12\n",
      "3*5=15\n",
      "3*6=18\n",
      "3*7=21\n",
      "3*8=24\n",
      "3*9=27\n"
     ]
    }
   ],
   "source": [
    "a = int(input())\n",
    "for i in range (1,10):\n",
    "    print(f'{a}*{i}={a*i}') "
   ]
  },
  {
   "cell_type": "code",
   "execution_count": 4,
   "id": "02ed1a60-c547-4ca7-ac21-19ac79df8e16",
   "metadata": {},
   "outputs": [
    {
     "name": "stdin",
     "output_type": "stream",
     "text": [
      " 4\n"
     ]
    },
    {
     "name": "stdout",
     "output_type": "stream",
     "text": [
      "   *\n",
      "  * *\n",
      " *   *\n",
      "*******\n"
     ]
    }
   ],
   "source": [
    "h = int(input())\n",
    "for i in range(1, h + 1):\n",
    "    if i == h:\n",
    "        print('*' * (2 * h - 1))\n",
    "    else:\n",
    "        print(' ' * (h - i), end='')\n",
    "        if i == 1:\n",
    "            print('*')\n",
    "        else:\n",
    "            print('*' + ' ' * (2 * i - 3) + '*')"
   ]
  },
  {
   "cell_type": "code",
   "execution_count": 5,
   "id": "b0660844-31e9-49e9-bb7b-09b91ca04223",
   "metadata": {},
   "outputs": [
    {
     "name": "stdin",
     "output_type": "stream",
     "text": [
      " 5\n"
     ]
    },
    {
     "name": "stdout",
     "output_type": "stream",
     "text": [
      "15\n"
     ]
    }
   ],
   "source": [
    "n = int(input())\n",
    "S = 0\n",
    "for i in range(1, n + 1):\n",
    "    S += i\n",
    "print(S)"
   ]
  },
  {
   "cell_type": "code",
   "execution_count": 6,
   "id": "2283cf76-701f-4285-acd8-d066c75ccce2",
   "metadata": {},
   "outputs": [
    {
     "name": "stdin",
     "output_type": "stream",
     "text": [
      " 6\n"
     ]
    },
    {
     "name": "stdout",
     "output_type": "stream",
     "text": [
      "1 2 3 6 "
     ]
    }
   ],
   "source": [
    "a = int(input())\n",
    "for i in range(1, a + 1):\n",
    "    if a % i == 0:\n",
    "        print(i, end=' ')"
   ]
  },
  {
   "cell_type": "code",
   "execution_count": 1,
   "id": "5aa12ed2-b856-47b1-911b-f6a412425649",
   "metadata": {},
   "outputs": [
    {
     "name": "stdin",
     "output_type": "stream",
     "text": [
      " 7\n"
     ]
    },
    {
     "name": "stdout",
     "output_type": "stream",
     "text": [
      "2\n"
     ]
    }
   ],
   "source": [
    "a = int(input())\n",
    "count = 0\n",
    "for i in range(1, a + 1):\n",
    "    if a % i == 0:\n",
    "        count += 1\n",
    "print(count)"
   ]
  },
  {
   "cell_type": "code",
   "execution_count": 2,
   "id": "3ce9fdc5-732b-4dcc-800c-888d6f730573",
   "metadata": {},
   "outputs": [
    {
     "name": "stdin",
     "output_type": "stream",
     "text": [
      " 8\n",
      " 8\n"
     ]
    },
    {
     "name": "stdout",
     "output_type": "stream",
     "text": [
      "1 2 4 8 "
     ]
    }
   ],
   "source": [
    "a = int(input())\n",
    "b = int(input())\n",
    "for i in range(1, min(a,b) + 1):\n",
    "    if a % i == 0 and b % i == 0:\n",
    "        print(i, end=' ')"
   ]
  },
  {
   "cell_type": "code",
   "execution_count": 3,
   "id": "c58b6498-1872-47ab-84b3-c11203e786a6",
   "metadata": {},
   "outputs": [
    {
     "name": "stdin",
     "output_type": "stream",
     "text": [
      " 9\n"
     ]
    },
    {
     "name": "stdout",
     "output_type": "stream",
     "text": [
      "Yes\n"
     ]
    }
   ],
   "source": [
    "a = int(input())\n",
    "for i in range(1, a + 1):\n",
    "    if a == i**2:\n",
    "        print(\"Yes\")\n",
    "        break\n",
    "else:\n",
    "    print(\"No\")"
   ]
  },
  {
   "cell_type": "code",
   "execution_count": 3,
   "id": "9d12f5bb-e588-46af-b41f-a3e2531cd4c1",
   "metadata": {},
   "outputs": [
    {
     "name": "stdin",
     "output_type": "stream",
     "text": [
      " 10\n"
     ]
    },
    {
     "name": "stdout",
     "output_type": "stream",
     "text": [
      "No\n"
     ]
    }
   ],
   "source": [
    "a = int(input())\n",
    "S = 0\n",
    "for i in range(1, a + 1):\n",
    "    S += i\n",
    "    if a % i == 0 and a == S:\n",
    "        print(\"Yes\")\n",
    "        break\n",
    "else:\n",
    "    print(\"No\")"
   ]
  },
  {
   "cell_type": "code",
   "execution_count": 2,
   "id": "aaf08dc1-7214-423c-af3d-a1280e9f9eed",
   "metadata": {},
   "outputs": [
    {
     "name": "stdin",
     "output_type": "stream",
     "text": [
      " -4\n"
     ]
    },
    {
     "name": "stdout",
     "output_type": "stream",
     "text": [
      "Error\n"
     ]
    },
    {
     "name": "stdin",
     "output_type": "stream",
     "text": [
      " 19\n"
     ]
    },
    {
     "name": "stdout",
     "output_type": "stream",
     "text": [
      "Bạn nhập đúng quy tắc\n"
     ]
    }
   ],
   "source": [
    "while True:\n",
    "    a = int(input())\n",
    "    if a <= 0:\n",
    "        print(\"Error\")\n",
    "    else:\n",
    "        print(\"Bạn nhập đúng quy tắc\")\n",
    "        break"
   ]
  },
  {
   "cell_type": "code",
   "execution_count": 7,
   "id": "002f80fa-3183-4f7b-a9cf-851a7d49a249",
   "metadata": {},
   "outputs": [
    {
     "name": "stdin",
     "output_type": "stream",
     "text": [
      " 27\n"
     ]
    },
    {
     "name": "stdout",
     "output_type": "stream",
     "text": [
      "6\n"
     ]
    }
   ],
   "source": [
    "n = int(input())\n",
    "S = 0\n",
    "k = 0\n",
    "while True:\n",
    "    k += 1\n",
    "    S += k\n",
    "    if S >= n:\n",
    "        k -= 1\n",
    "        break\n",
    "print(k)"
   ]
  },
  {
   "cell_type": "code",
   "execution_count": 8,
   "id": "b16010a6-a57a-4cb6-8371-293975d15889",
   "metadata": {},
   "outputs": [
    {
     "name": "stdin",
     "output_type": "stream",
     "text": [
      " 3\n"
     ]
    },
    {
     "name": "stdout",
     "output_type": "stream",
     "text": [
      "11\n"
     ]
    }
   ],
   "source": [
    "A = int(input())\n",
    "n = 0\n",
    "S = 0\n",
    "while S <= A:\n",
    "    n += 1\n",
    "    S += 1 / n\n",
    "print(n)"
   ]
  },
  {
   "cell_type": "code",
   "execution_count": null,
   "id": "8f74baf4-e7b8-4c80-b7f4-9c2e3727dcc7",
   "metadata": {},
   "outputs": [
    {
     "name": "stdin",
     "output_type": "stream",
     "text": [
      " 9\n",
      " 6\n",
      " 6\n",
      " 0\n"
     ]
    }
   ],
   "source": [
    "max_val = None\n",
    "min_val = None\n",
    "x=0\n",
    "\n",
    "while True:\n",
    "    x = int(input())\n",
    "    if x == -1:\n",
    "        break\n",
    "\n",
    "    if max_val is None or min_val is None:\n",
    "        max_val = x\n",
    "        min_val = x\n",
    "    else:\n",
    "        if x > max_val:\n",
    "            max_val = x\n",
    "        if x < min_val:\n",
    "            min_val = x\n",
    "\n",
    "print(max_val)\n",
    "print(min_val)"
   ]
  },
  {
   "cell_type": "code",
   "execution_count": 3,
   "id": "15fc04f7-d240-402b-b2cf-37e3588be685",
   "metadata": {},
   "outputs": [
    {
     "name": "stdin",
     "output_type": "stream",
     "text": [
      " 245635765234676843241\n"
     ]
    },
    {
     "name": "stdout",
     "output_type": "stream",
     "text": [
      "21\n"
     ]
    }
   ],
   "source": [
    "n = int(input())\n",
    "count = 0\n",
    "while n != 0:\n",
    "    n //= 10\n",
    "    count += 1\n",
    "print(count)"
   ]
  },
  {
   "cell_type": "code",
   "execution_count": 10,
   "id": "0d44997b-59e8-48d9-a61f-99d498816537",
   "metadata": {},
   "outputs": [
    {
     "name": "stdin",
     "output_type": "stream",
     "text": [
      " 512637481913\n"
     ]
    },
    {
     "name": "stdout",
     "output_type": "stream",
     "text": [
      "Tổng số: 12\n"
     ]
    }
   ],
   "source": [
    "n = int(input())\n",
    "print(\"Tổng số:\", len(str(n)))"
   ]
  },
  {
   "cell_type": "code",
   "execution_count": 11,
   "id": "6aa16272-f230-47b6-a9b4-b14270232849",
   "metadata": {},
   "outputs": [
    {
     "name": "stdin",
     "output_type": "stream",
     "text": [
      " 34567890132\n"
     ]
    },
    {
     "name": "stdout",
     "output_type": "stream",
     "text": [
      "Số chẵn: 5\n",
      "Số lẻ: 6\n"
     ]
    }
   ],
   "source": [
    "n = int(input())\n",
    "chan = 0\n",
    "le = 0\n",
    "while n > 0:\n",
    "    digit = n % 10 \n",
    "    if digit % 2 == 0:\n",
    "        chan += 1\n",
    "    else: \n",
    "        le += 1\n",
    "    n //= 10\n",
    "print(\"Số chẵn:\", chan)\n",
    "print(\"Số lẻ:\", le)"
   ]
  },
  {
   "cell_type": "code",
   "execution_count": 17,
   "id": "89d74461-1393-4e49-970b-67bccf8a74ce",
   "metadata": {},
   "outputs": [
    {
     "name": "stdin",
     "output_type": "stream",
     "text": [
      " 01232741142\n"
     ]
    },
    {
     "name": "stdout",
     "output_type": "stream",
     "text": [
      "27\n"
     ]
    }
   ],
   "source": [
    "n = int(input())\n",
    "total = 0\n",
    "while n > 0:\n",
    "    digit = n % 10\n",
    "    total += digit \n",
    "    n //= 10\n",
    "print(total)"
   ]
  },
  {
   "cell_type": "code",
   "execution_count": 25,
   "id": "7e4d64f1-e8e0-408c-93f2-bd0fae8c8f9b",
   "metadata": {},
   "outputs": [
    {
     "name": "stdin",
     "output_type": "stream",
     "text": [
      " 81\n"
     ]
    },
    {
     "name": "stdout",
     "output_type": "stream",
     "text": [
      "Yes\n"
     ]
    }
   ],
   "source": [
    "n = int(input())\n",
    "for k in range (1, n + 1):\n",
    "    if n == 3**k:\n",
    "        print(\"Yes\")\n",
    "        break\n",
    "else:\n",
    "    print(\"No\")"
   ]
  },
  {
   "cell_type": "code",
   "execution_count": 26,
   "id": "5bc4008c-2c42-4d37-aec0-f05841f74bda",
   "metadata": {},
   "outputs": [
    {
     "name": "stdin",
     "output_type": "stream",
     "text": [
      " 56\n"
     ]
    },
    {
     "name": "stdout",
     "output_type": "stream",
     "text": [
      "55\n"
     ]
    }
   ],
   "source": [
    "A = int(input())\n",
    "f1 = 1\n",
    "f2 = 1\n",
    "while f2 <= A:\n",
    "    temp = f2\n",
    "    f2 = f1 + f2\n",
    "    f1 = temp\n",
    "print(f1)"
   ]
  },
  {
   "cell_type": "code",
   "execution_count": 37,
   "id": "f6eef116-a4be-49c9-bfd4-325b066197b9",
   "metadata": {},
   "outputs": [
    {
     "name": "stdin",
     "output_type": "stream",
     "text": [
      " 9127434324\n"
     ]
    },
    {
     "name": "stdout",
     "output_type": "stream",
     "text": [
      "Số chữ số nguyên tố là: 5\n"
     ]
    }
   ],
   "source": [
    "n = int(input())\n",
    "count = 0\n",
    "while n > 0:\n",
    "    digit = n % 10  \n",
    "    if digit in (2, 3, 5, 7):\n",
    "        count += 1\n",
    "    n //= 10  \n",
    "print(\"Số chữ số nguyên tố là:\", count)"
   ]
  }
 ],
 "metadata": {
  "kernelspec": {
   "display_name": "Python [conda env:base] *",
   "language": "python",
   "name": "conda-base-py"
  },
  "language_info": {
   "codemirror_mode": {
    "name": "ipython",
    "version": 3
   },
   "file_extension": ".py",
   "mimetype": "text/x-python",
   "name": "python",
   "nbconvert_exporter": "python",
   "pygments_lexer": "ipython3",
   "version": "3.13.5"
  }
 },
 "nbformat": 4,
 "nbformat_minor": 5
}
