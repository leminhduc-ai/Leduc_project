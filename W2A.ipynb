{
 "cells": [
  {
   "cell_type": "code",
   "execution_count": 34,
   "id": "efee187d-1381-4c00-84bb-e3345b103883",
   "metadata": {},
   "outputs": [
    {
     "name": "stdout",
     "output_type": "stream",
     "text": [
      "Hello IS5, Chuc cac ban hoc tot\n"
     ]
    }
   ],
   "source": [
    "print(\"Hello\", \"IS5,\", \"Chuc cac ban hoc tot\")"
   ]
  },
  {
   "cell_type": "code",
   "execution_count": 3,
   "id": "c84d5cb6-7bab-4cdd-b55b-1412ad2963fb",
   "metadata": {},
   "outputs": [
    {
     "name": "stdin",
     "output_type": "stream",
     "text": [
      " Duc\n"
     ]
    },
    {
     "name": "stdout",
     "output_type": "stream",
     "text": [
      "Hello Duc\n"
     ]
    }
   ],
   "source": [
    "name = input()\n",
    "print(\"Hello\", name)"
   ]
  },
  {
   "cell_type": "code",
   "execution_count": 1,
   "id": "4edc837c-3eaa-4f3d-a7bf-880f56e5afc3",
   "metadata": {},
   "outputs": [
    {
     "name": "stdout",
     "output_type": "stream",
     "text": [
      "7\n",
      "3\n",
      "10\n",
      "2.5\n",
      "2\n",
      "1\n"
     ]
    }
   ],
   "source": [
    "a = 5\n",
    "b = 2\n",
    "c = a + b\n",
    "d = a - b\n",
    "e = a * b\n",
    "f = a / b\n",
    "g = a // b \n",
    "h = a % b\n",
    "print(c)\n",
    "print(d)\n",
    "print(e)\n",
    "print(f)\n",
    "print(g)\n",
    "print(h)"
   ]
  },
  {
   "cell_type": "code",
   "execution_count": 26,
   "id": "5864e6b8-89e3-48e5-9420-c088e6fc46af",
   "metadata": {},
   "outputs": [
    {
     "name": "stdin",
     "output_type": "stream",
     "text": [
      " 1 2 3 4 5 6\n"
     ]
    },
    {
     "name": "stdout",
     "output_type": "stream",
     "text": [
      "4.2\n"
     ]
    },
    {
     "name": "stdin",
     "output_type": "stream",
     "text": [
      " 1 2 3 4 5 6\n"
     ]
    },
    {
     "name": "stdout",
     "output_type": "stream",
     "text": [
      "4.2\n"
     ]
    }
   ],
   "source": [
    "line = input()\n",
    "a1,b1,c1,a2,b2,a3 = map(float, line.split())\n",
    "TB=((a1+b1+c1)+(a2+b2)*2+a3*3)/10\n",
    "print(f'{TB:.1f}')\n",
    "a1,b1,c1,a2,b2,a3 = map(int, input().split())\n",
    "TB=((a1+b1+c1)+(a2+b2)*2+a3*3)/10\n",
    "print(f'{TB:.1f}')"
   ]
  },
  {
   "cell_type": "code",
   "execution_count": 24,
   "id": "05567277-2e24-4431-a03f-4b94855a9c2c",
   "metadata": {},
   "outputs": [
    {
     "name": "stdin",
     "output_type": "stream",
     "text": [
      " 3 6\n"
     ]
    },
    {
     "data": {
      "text/plain": [
       "729"
      ]
     },
     "execution_count": 24,
     "metadata": {},
     "output_type": "execute_result"
    }
   ],
   "source": [
    "line = input()\n",
    "a,b = map(int, line.split())\n",
    "\n",
    "a**b"
   ]
  },
  {
   "cell_type": "code",
   "execution_count": 33,
   "id": "e9ce2ce8-8a56-4dc0-85bc-33e0a461d043",
   "metadata": {},
   "outputs": [
    {
     "name": "stdin",
     "output_type": "stream",
     "text": [
      " g\n"
     ]
    },
    {
     "name": "stdout",
     "output_type": "stream",
     "text": [
      "103\n",
      "G\n"
     ]
    }
   ],
   "source": [
    "ch = input()\n",
    "print(ord(ch))\n",
    "print(ch.upper())"
   ]
  },
  {
   "cell_type": "code",
   "execution_count": 4,
   "id": "3361eba3-c0ee-46cc-b356-4b7ebcc39caf",
   "metadata": {},
   "outputs": [
    {
     "name": "stdout",
     "output_type": "stream",
     "text": [
      "512\n",
      "512\n"
     ]
    }
   ],
   "source": [
    "A = ((13 ** 2) * 3) + 5 \n",
    "B = 13**2*3 + 5\n",
    "print(A)\n",
    "print(B)"
   ]
  },
  {
   "cell_type": "code",
   "execution_count": 7,
   "id": "ba0af2d8-9d3a-4219-a119-cb5a77e7d045",
   "metadata": {},
   "outputs": [
    {
     "name": "stdin",
     "output_type": "stream",
     "text": [
      " 10\n"
     ]
    },
    {
     "name": "stdout",
     "output_type": "stream",
     "text": [
      "50.00\n"
     ]
    }
   ],
   "source": [
    "C = float(input())\n",
    "F = 9/5*C + 32 \n",
    "print(f'{F:.2f}')"
   ]
  },
  {
   "cell_type": "code",
   "execution_count": 11,
   "id": "84006904-da78-4e0e-86ee-865a4e91d7cb",
   "metadata": {},
   "outputs": [
    {
     "name": "stdin",
     "output_type": "stream",
     "text": [
      " 200\n"
     ]
    },
    {
     "name": "stdout",
     "output_type": "stream",
     "text": [
      "290.00\n"
     ]
    }
   ],
   "source": [
    "x = float(input())\n",
    "T = (0.3 + 0.1)*x + x + 10\n",
    "print(f'{T:.2f}')"
   ]
  },
  {
   "cell_type": "code",
   "execution_count": 13,
   "id": "46b8de79-eb4c-4c65-b3bb-114e552f5a9a",
   "metadata": {},
   "outputs": [
    {
     "name": "stdin",
     "output_type": "stream",
     "text": [
      " Bob Alice Helen\n"
     ]
    },
    {
     "name": "stdout",
     "output_type": "stream",
     "text": [
      "Hi Helen, Alice and Bob.\n"
     ]
    }
   ],
   "source": [
    "names = input().split()\n",
    "names.reverse()\n",
    "print(f\"Hi {names[0]}, {names[1]} and {names[2]}.\")"
   ]
  },
  {
   "cell_type": "code",
   "execution_count": 23,
   "id": "a7b5119d-081e-418b-88bb-8a590967b821",
   "metadata": {},
   "outputs": [
    {
     "name": "stdin",
     "output_type": "stream",
     "text": [
      " 1 18\n"
     ]
    },
    {
     "name": "stdout",
     "output_type": "stream",
     "text": [
      "3600, 1080\n"
     ]
    }
   ],
   "source": [
    "h, m = map(int, input().split())\n",
    "s1 = h * 3600\n",
    "s2 = m * 60\n",
    "print(f'{s1}, {s2}')"
   ]
  },
  {
   "cell_type": "code",
   "execution_count": 14,
   "id": "169273f8-cc5f-47a4-8039-9e379447b98c",
   "metadata": {},
   "outputs": [
    {
     "name": "stdout",
     "output_type": "stream",
     "text": [
      "6\n"
     ]
    }
   ],
   "source": [
    "def rubik_stickers(n):\n",
    "    return 6 * n * n\n",
    "print(rubik_stickers(1))"
   ]
  },
  {
   "cell_type": "code",
   "execution_count": 24,
   "id": "b9de329b-f857-4ecc-81bc-03d43acff78f",
   "metadata": {},
   "outputs": [
    {
     "name": "stdin",
     "output_type": "stream",
     "text": [
      " 3 6\n"
     ]
    },
    {
     "name": "stdout",
     "output_type": "stream",
     "text": [
      "18\n"
     ]
    }
   ],
   "source": [
    "a, b = map(int, input().split())\n",
    "c = a * b\n",
    "print(f'{c}')"
   ]
  },
  {
   "cell_type": "code",
   "execution_count": 48,
   "id": "83915bda-46ec-4f7c-9eae-13c4be490777",
   "metadata": {},
   "outputs": [
    {
     "name": "stdin",
     "output_type": "stream",
     "text": [
      " 3 6\n"
     ]
    },
    {
     "name": "stdout",
     "output_type": "stream",
     "text": [
      "6 3\n"
     ]
    }
   ],
   "source": [
    "a, b = map(int, input().split())\n",
    "a, b = b, a\n",
    "print(a, b)"
   ]
  },
  {
   "cell_type": "code",
   "execution_count": 8,
   "id": "6b760395-54c9-481a-b550-53a5871c542b",
   "metadata": {},
   "outputs": [
    {
     "name": "stdin",
     "output_type": "stream",
     "text": [
      " 2\n"
     ]
    },
    {
     "name": "stdout",
     "output_type": "stream",
     "text": [
      "13.0\n"
     ]
    }
   ],
   "source": [
    "n = float(input())\n",
    "N = 6*n*(n-1) + 1\n",
    "print(f'{N}')"
   ]
  },
  {
   "cell_type": "code",
   "execution_count": 1,
   "id": "05292c76-371e-4771-8810-69eb6f6a0377",
   "metadata": {},
   "outputs": [
    {
     "name": "stdout",
     "output_type": "stream",
     "text": [
      "Spring\n",
      "Summer\n",
      "Autumn\n",
      "Winter\n"
     ]
    }
   ],
   "source": [
    "print(\"Spring\", \"Summer\", \"Autumn\", \"Winter\", sep = '\\n')"
   ]
  },
  {
   "cell_type": "code",
   "execution_count": 3,
   "id": "97ecd700-298e-47bd-9e25-582463edf6bd",
   "metadata": {},
   "outputs": [
    {
     "name": "stdout",
     "output_type": "stream",
     "text": [
      "  *\n",
      " ***\n",
      "*****\n",
      "   *\n",
      "  ***\n",
      " *****\n",
      "\n"
     ]
    }
   ],
   "source": [
    "print(\"  *\", \" ***\", \"*****\", sep = '\\n') \n",
    "print(\"   *\\n\", \" ***\\n\", \"*****\\n\")"
   ]
  },
  {
   "cell_type": "code",
   "execution_count": 4,
   "id": "ff0490ce-b0c0-47fd-859f-2cb54a726fd3",
   "metadata": {},
   "outputs": [
    {
     "name": "stdout",
     "output_type": "stream",
     "text": [
      "### # #   ### ###\n",
      " #  #  #   #   #\n",
      " #  #   #  #   #\n",
      " #  #  #   #   #\n",
      " #  # #    #   #\n"
     ]
    }
   ],
   "source": [
    "print(\"### # #   ### ###\", \" #  #  #   #   #\", \" #  #   #  #   #\", \" #  #  #   #   #\", \" #  # #    #   #\", sep = '\\n')"
   ]
  },
  {
   "cell_type": "code",
   "execution_count": 5,
   "id": "b1638bd9-d7c4-47f9-b96f-b416e07d481a",
   "metadata": {},
   "outputs": [
    {
     "name": "stdout",
     "output_type": "stream",
     "text": [
      "Monday\n",
      "Tuesday\n",
      "Wednesday\n",
      "Thursday\n",
      "Friday\n",
      "Saturday\n",
      "Sunday\n"
     ]
    }
   ],
   "source": [
    "print(\"Monday\", \"Tuesday\", \"Wednesday\", \"Thursday\", \"Friday\", \"Saturday\", \"Sunday\", sep = '\\n')"
   ]
  },
  {
   "cell_type": "code",
   "execution_count": 6,
   "id": "ec0fae97-8286-444e-a76f-dbc8daf155b9",
   "metadata": {},
   "outputs": [
    {
     "name": "stdout",
     "output_type": "stream",
     "text": [
      "January\n",
      "Febuary\n",
      "March\n",
      "April\n",
      "May\n",
      "June\n",
      "July\n",
      "August\n",
      "September\n",
      "October\n",
      "November\n",
      "December\n"
     ]
    }
   ],
   "source": [
    "print(\"January\", \"Febuary\", \"March\", \"April\", \"May\", \"June\", \"July\", \"August\", \"September\", \"October\", \"November\", \"December\", sep = '\\n')"
   ]
  },
  {
   "cell_type": "code",
   "execution_count": 8,
   "id": "d7e6357a-f022-4fce-8ba5-2baeaafc7985",
   "metadata": {},
   "outputs": [
    {
     "name": "stdout",
     "output_type": "stream",
     "text": [
      "Hello, world\n",
      "Hello, world\n",
      "Hello, world\n",
      "Hello, world\n",
      "Hello, world\n",
      "Hello, world\n",
      "Hello, world\n",
      "Hello, world\n",
      "Hello, world\n",
      "Hello, world\n"
     ]
    }
   ],
   "source": [
    "for i in range(10):\n",
    "    print(\"Hello, world\")"
   ]
  }
 ],
 "metadata": {
  "kernelspec": {
   "display_name": "Python [conda env:base] *",
   "language": "python",
   "name": "conda-base-py"
  },
  "language_info": {
   "codemirror_mode": {
    "name": "ipython",
    "version": 3
   },
   "file_extension": ".py",
   "mimetype": "text/x-python",
   "name": "python",
   "nbconvert_exporter": "python",
   "pygments_lexer": "ipython3",
   "version": "3.13.5"
  }
 },
 "nbformat": 4,
 "nbformat_minor": 5
}
