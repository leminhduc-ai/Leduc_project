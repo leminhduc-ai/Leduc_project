{
 "cells": [
  {
   "cell_type": "code",
   "execution_count": 2,
   "id": "88808fed-8bed-407b-9633-3df0b7212130",
   "metadata": {},
   "outputs": [
    {
     "name": "stdin",
     "output_type": "stream",
     "text": [
      " 3 7\n"
     ]
    },
    {
     "name": "stdout",
     "output_type": "stream",
     "text": [
      "20.0\n",
      "21.0\n"
     ]
    }
   ],
   "source": [
    "a, b = map(float, input().split())\n",
    "P = (a+b)*2\n",
    "S = a*b\n",
    "print(P)\n",
    "print(S)"
   ]
  },
  {
   "cell_type": "code",
   "execution_count": 5,
   "id": "6b215915-c449-46fa-9bc1-c1dbfafcc3df",
   "metadata": {},
   "outputs": [
    {
     "name": "stdin",
     "output_type": "stream",
     "text": [
      " 3\n"
     ]
    },
    {
     "name": "stdout",
     "output_type": "stream",
     "text": [
      "18.84\n",
      "28.26\n"
     ]
    }
   ],
   "source": [
    "r = float(input())\n",
    "P = 2*3.14*r\n",
    "S = 3.14*r**2\n",
    "print(P)\n",
    "print(S)"
   ]
  },
  {
   "cell_type": "code",
   "execution_count": 27,
   "id": "ac747463-625e-4bcb-8b0a-ff816b94b281",
   "metadata": {},
   "outputs": [
    {
     "name": "stdin",
     "output_type": "stream",
     "text": [
      " 6 6 6\n"
     ]
    },
    {
     "name": "stdout",
     "output_type": "stream",
     "text": [
      "Tam giac deu\n",
      "18.0\n",
      "15.588457268119896\n"
     ]
    }
   ],
   "source": [
    "import math\n",
    "a, b, c = map(float, input().split())\n",
    "if a+b>c and b+c>a and c+a>b: \n",
    "    if a==b==c:\n",
    "        ktra = \"Tam giac deu\"\n",
    "    elif a==b or b==c or c==a:\n",
    "        ktra = \"Tam giac can\"\n",
    "    elif a**2+b**2==c**2 or b**2+c**2==a**2 or c**2+a**2==b**2:\n",
    "        ktra = \"Tam giac vuong\"\n",
    "    else:\n",
    "        ktra = \"Tam giac thuong\"\n",
    "    P = a+b+c\n",
    "    p = P/2\n",
    "    s = math.sqrt(p*(p-a)*(p-b)*(p-c))\n",
    "    print(ktra)\n",
    "    print(P)\n",
    "    print(s)\n",
    "else:\n",
    "    print(\"Khong la ba canh cua mot tam giac\")"
   ]
  },
  {
   "cell_type": "code",
   "execution_count": 35,
   "id": "dfd1241b-e6f2-4b49-9cf5-3c88c6fb4ec6",
   "metadata": {},
   "outputs": [
    {
     "name": "stdin",
     "output_type": "stream",
     "text": [
      " 5 4 4\n"
     ]
    },
    {
     "name": "stdout",
     "output_type": "stream",
     "text": [
      "Tam giac can\n",
      "13.0\n",
      "7.806247497997997\n"
     ]
    }
   ],
   "source": [
    "import math\n",
    "a, b, c = map(float, input().split())\n",
    "if a+b>c and b+c>a and c+a>b: \n",
    "    if a==b==c:\n",
    "       print(\"Tam giac deu\")\n",
    "    elif a==b or b==c or c==a:\n",
    "        print(\"Tam giac can\")\n",
    "    elif a**2+b**2==c**2 or b**2+c**2==a**2 or c**2+a**2==b**2:\n",
    "        print(\"Tam giac vuong\")\n",
    "    else:\n",
    "        print(\"Tam giac thuong\")\n",
    "    P = a+b+c\n",
    "    p = P/2\n",
    "    s = math.sqrt(p*(p-a)*(p-b)*(p-c))\n",
    "    print(P)\n",
    "    print(s)\n",
    "else:\n",
    "    print(\"Khong la ba canh cua mot tam giac\")"
   ]
  },
  {
   "cell_type": "code",
   "execution_count": 43,
   "id": "f644f3a9-343b-4918-b077-884225925bdd",
   "metadata": {},
   "outputs": [
    {
     "name": "stdin",
     "output_type": "stream",
     "text": [
      " 8 9\n"
     ]
    },
    {
     "name": "stdout",
     "output_type": "stream",
     "text": [
      "Nghiem cua phuong trinh la -1.125\n"
     ]
    }
   ],
   "source": [
    "a, b = map(float, input().split())\n",
    "if a==0:\n",
    "    if b==0:\n",
    "        print(\"Phuong trinh co vo so nghiem\")\n",
    "    else:\n",
    "        print(\"Phuong trinh vo nghiem\")\n",
    "else:\n",
    "    x = -b/a\n",
    "print(\"Nghiem cua phuong trinh la\", x)"
   ]
  },
  {
   "cell_type": "code",
   "execution_count": 46,
   "id": "4a1072b7-c837-4ff0-9115-6c54173d0f2b",
   "metadata": {},
   "outputs": [
    {
     "name": "stdin",
     "output_type": "stream",
     "text": [
      " 1 2 1\n"
     ]
    },
    {
     "name": "stdout",
     "output_type": "stream",
     "text": [
      "Phuong trinh co nghiem duy nhat: -1.0\n"
     ]
    }
   ],
   "source": [
    "import math\n",
    "a, b, c = map(float, input().split())\n",
    "delta = b**2 - 4*a*c\n",
    "x = -b/(2*a)\n",
    "x1 = (-b+math.sqrt(delta))/2*a\n",
    "x2 = (-b-math.sqrt(delta))/2*a\n",
    "if delta < 0:\n",
    "    print(\"Phuong trinh vo nghiem\")\n",
    "elif delta == 0:\n",
    "    print(\"Phuong trinh co nghiem duy nhat:\", x) \n",
    "elif delta > 0:\n",
    "    print(\"Phuong trinh co hai nghiem phan biet:\", x1, x2)\n",
    "    "
   ]
  },
  {
   "cell_type": "code",
   "execution_count": 2,
   "id": "5edb3e81-c2dd-4603-afe1-f19fd9b281f3",
   "metadata": {},
   "outputs": [
    {
     "name": "stdin",
     "output_type": "stream",
     "text": [
      " 1 2 3 4\n"
     ]
    },
    {
     "name": "stdout",
     "output_type": "stream",
     "text": [
      "4.0\n"
     ]
    }
   ],
   "source": [
    "a,b,c,d = map(float, input().split())\n",
    "M = max(a,b,c,d)\n",
    "print(M)"
   ]
  },
  {
   "cell_type": "code",
   "execution_count": 3,
   "id": "ed011a3f-f685-4892-865d-0c5f3a2a1139",
   "metadata": {},
   "outputs": [
    {
     "name": "stdin",
     "output_type": "stream",
     "text": [
      " 1 2 3 4\n"
     ]
    },
    {
     "name": "stdout",
     "output_type": "stream",
     "text": [
      "1.0\n"
     ]
    }
   ],
   "source": [
    "a,b,c,d = map(float, input().split())\n",
    "m = min(a,b,c,d)\n",
    "print(m)"
   ]
  },
  {
   "cell_type": "code",
   "execution_count": 8,
   "id": "869687f8-f16d-47f4-ae58-893fdf2dd269",
   "metadata": {},
   "outputs": [
    {
     "name": "stdin",
     "output_type": "stream",
     "text": [
      " 1 2 2 4 3 5\n"
     ]
    },
    {
     "name": "stdout",
     "output_type": "stream",
     "text": [
      "He phuong trinh vo nghiem\n"
     ]
    }
   ],
   "source": [
    "a,b,c,d,m,n = map(float, input().split())\n",
    "D = a*d-b*c\n",
    "D1 = a*n-c*m\n",
    "D2 = b*n-d*m\n",
    "if D!=0:\n",
    "    x = D1/D\n",
    "    y = D2/D\n",
    "    print(\"He phuong trinh co nghiem duy nhat:\", x, y)\n",
    "else:\n",
    "    if D1==0 and D2==0:\n",
    "        print(\"He phuong trinh co vo so nghiem\")\n",
    "    else: \n",
    "        print(\"He phuong trinh vo nghiem\")"
   ]
  },
  {
   "cell_type": "code",
   "execution_count": 8,
   "id": "90349896-18b2-488f-ae2a-cdb7f4d6f1f7",
   "metadata": {},
   "outputs": [
    {
     "name": "stdin",
     "output_type": "stream",
     "text": [
      " 86400\n"
     ]
    },
    {
     "name": "stdout",
     "output_type": "stream",
     "text": [
      "hour: 24.0 minute: 1440.0 second: 86400.0\n"
     ]
    }
   ],
   "source": [
    "x = float(input())\n",
    "h = x/3600\n",
    "m = x/60\n",
    "s = x\n",
    "print(\"hour:\",h, \"minute:\",m,\"second:\", s)"
   ]
  },
  {
   "cell_type": "code",
   "execution_count": 11,
   "id": "ed72920d-261e-48db-aac1-bec372ebeac5",
   "metadata": {},
   "outputs": [
    {
     "name": "stdin",
     "output_type": "stream",
     "text": [
      " 1 -2 2\n",
      " 0 1\n"
     ]
    },
    {
     "name": "stdout",
     "output_type": "stream",
     "text": [
      "Diem do khong thuoc duong tron\n"
     ]
    }
   ],
   "source": [
    "a,b,r = map(float, input().split())\n",
    "x, y = map(float, input().split())\n",
    "if (x-a)**2 + (y-b)**2 == r**2:\n",
    "    print(\"Diem do thuoc duong tron\")\n",
    "else:\n",
    "    print(\"Diem do khong thuoc duong tron\")"
   ]
  },
  {
   "cell_type": "code",
   "execution_count": 21,
   "id": "50ce5ee5-bce8-4747-bbeb-df7f2ff56dda",
   "metadata": {},
   "outputs": [
    {
     "name": "stdin",
     "output_type": "stream",
     "text": [
      " 2.22 1.11\n"
     ]
    },
    {
     "name": "stdout",
     "output_type": "stream",
     "text": [
      "2.423548982164075\n"
     ]
    }
   ],
   "source": [
    "x,y = map(float, input().split())\n",
    "P = x**y\n",
    "print(P)"
   ]
  }
 ],
 "metadata": {
  "kernelspec": {
   "display_name": "Python [conda env:base] *",
   "language": "python",
   "name": "conda-base-py"
  },
  "language_info": {
   "codemirror_mode": {
    "name": "ipython",
    "version": 3
   },
   "file_extension": ".py",
   "mimetype": "text/x-python",
   "name": "python",
   "nbconvert_exporter": "python",
   "pygments_lexer": "ipython3",
   "version": "3.13.5"
  }
 },
 "nbformat": 4,
 "nbformat_minor": 5
}
